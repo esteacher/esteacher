{
 "cells": [
  {
   "cell_type": "code",
   "execution_count": 1,
   "id": "e280c6df",
   "metadata": {},
   "outputs": [
    {
     "name": "stdout",
     "output_type": "stream",
     "text": [
      "정수 한개 입력:5\n",
      "-5\n"
     ]
    }
   ],
   "source": [
    "a=int(input('정수 한 개 입력:'))\n",
    "print(-a)"
   ]
  },
  {
   "cell_type": "code",
   "execution_count": 3,
   "id": "b1abf710",
   "metadata": {},
   "outputs": [
    {
     "name": "stdout",
     "output_type": "stream",
     "text": [
      "정수 두 개 입력:123 456\n",
      "579\n"
     ]
    }
   ],
   "source": [
    "b,c=input('정수 두 개 입력:').split()\n",
    "b=int(b)\n",
    "c=int(c)\n",
    "print(b+c)"
   ]
  },
  {
   "cell_type": "code",
   "execution_count": 4,
   "id": "f99a10f8",
   "metadata": {},
   "outputs": [
    {
     "name": "stdout",
     "output_type": "stream",
     "text": [
      "정수 세 개 입력:43 46 51\n",
      "140\n",
      "46.666666666666664\n"
     ]
    }
   ],
   "source": [
    "d,e,f=input('정수 세 개 입력:').split()\n",
    "d=int(d)\n",
    "e=int(e)\n",
    "f=int(f)\n",
    "print(d+e+f)\n",
    "print((d+e+f)/3)"
   ]
  },
  {
   "cell_type": "code",
   "execution_count": 5,
   "id": "e8099ede",
   "metadata": {},
   "outputs": [
    {
     "name": "stdout",
     "output_type": "stream",
     "text": [
      "정수 두 개 입력:4 6\n",
      "no\n"
     ]
    }
   ],
   "source": [
    "g, h=input('정수 두 개 입력:').split()\n",
    "g=int(g)\n",
    "e=int(e)\n",
    "if g>e:\n",
    "    print(\"ok\")\n",
    "else:\n",
    "    print(\"no\")"
   ]
  },
  {
   "cell_type": "code",
   "execution_count": 7,
   "id": "c46c6f4b",
   "metadata": {},
   "outputs": [
    {
     "name": "stdout",
     "output_type": "stream",
     "text": [
      "정수 두 개 입력:6 6\n",
      "ok\n"
     ]
    }
   ],
   "source": [
    "i, j=input('정수 두 개 입력:').split()\n",
    "i=int(i)\n",
    "j=int(j)\n",
    "if i==j:\n",
    "    print(\"ok\")\n",
    "else:\n",
    "    print(\"no\")"
   ]
  },
  {
   "cell_type": "code",
   "execution_count": null,
   "id": "7b1623c7",
   "metadata": {},
   "outputs": [],
   "source": []
  }
 ],
 "metadata": {
  "kernelspec": {
   "display_name": "Python 3",
   "language": "python",
   "name": "python3"
  },
  "language_info": {
   "codemirror_mode": {
    "name": "ipython",
    "version": 3
   },
   "file_extension": ".py",
   "mimetype": "text/x-python",
   "name": "python",
   "nbconvert_exporter": "python",
   "pygments_lexer": "ipython3",
   "version": "3.8.8"
  }
 },
 "nbformat": 4,
 "nbformat_minor": 5
}
