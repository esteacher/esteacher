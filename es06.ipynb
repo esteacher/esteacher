{
 "cells": [
  {
   "cell_type": "code",
   "execution_count": 4,
   "id": "f92e0376",
   "metadata": {},
   "outputs": [
    {
     "name": "stdout",
     "output_type": "stream",
     "text": [
      "Requirement already satisfied: selenium in d:\\anaconda3\\lib\\site-packages (3.141.0)\n",
      "Requirement already satisfied: beautifulsoup4 in d:\\anaconda3\\lib\\site-packages (4.9.3)\n",
      "Requirement already satisfied: lxml in d:\\anaconda3\\lib\\site-packages (4.6.3)\n",
      "Requirement already satisfied: soupsieve>1.2 in d:\\anaconda3\\lib\\site-packages (from beautifulsoup4) (2.2.1)\n",
      "Requirement already satisfied: urllib3 in d:\\anaconda3\\lib\\site-packages (from selenium) (1.26.4)\n"
     ]
    }
   ],
   "source": [
    "!pip install selenium beautifulsoup4 lxml"
   ]
  },
  {
   "cell_type": "code",
   "execution_count": 17,
   "id": "9ddac239",
   "metadata": {},
   "outputs": [
    {
     "name": "stdout",
     "output_type": "stream",
     "text": [
      "11㎍/㎥\n",
      "6㎍/㎥\n"
     ]
    }
   ],
   "source": [
    "from bs4 import BeautifulSoup as bs \n",
    "from pprint import pprint \n",
    "import requests\n",
    " \n",
    "html = requests.get('https://search.naver.com/search.naver?where=nexearch&sm=top_hty&fbm=1&ie=utf8&query=%EB%82%A0%EC%94%A8') \n",
    "\n",
    "soup = bs(html.text,'html.parser')\n",
    "#pprint(soup)\n",
    "\n",
    "data1 = soup.find('div',{'class':'detail_box'}) \n",
    "#pprint(data1)\n",
    "\n",
    "data2 = data1.findAll('dd') \n",
    "#pprint(data2)\n",
    "\n",
    "fine_dust = data2[0].find('span',{'class':'num'}).text\n",
    "print(fine_dust)\n",
    "\n",
    "ultra_fine_dust = data2[1].find('span',{'class':'num'}).text \n",
    "print(ultra_fine_dust)\n"
   ]
  },
  {
   "cell_type": "code",
   "execution_count": null,
   "id": "2de652a7",
   "metadata": {},
   "outputs": [],
   "source": []
  }
 ],
 "metadata": {
  "kernelspec": {
   "display_name": "Python 3",
   "language": "python",
   "name": "python3"
  },
  "language_info": {
   "codemirror_mode": {
    "name": "ipython",
    "version": 3
   },
   "file_extension": ".py",
   "mimetype": "text/x-python",
   "name": "python",
   "nbconvert_exporter": "python",
   "pygments_lexer": "ipython3",
   "version": "3.8.8"
  }
 },
 "nbformat": 4,
 "nbformat_minor": 5
}
