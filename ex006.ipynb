{
 "cells": [
  {
   "cell_type": "markdown",
   "id": "7a9016fa",
   "metadata": {},
   "source": [
    "### a:시작 값 d: 등차 n:몇번째"
   ]
  },
  {
   "cell_type": "code",
   "execution_count": 4,
   "id": "635880fa",
   "metadata": {},
   "outputs": [
    {
     "name": "stdout",
     "output_type": "stream",
     "text": [
      "a,d,n 입력1 3 5\n",
      "13\n"
     ]
    }
   ],
   "source": [
    "a,d,n=input('a,d,n 입력').split()\n",
    "\n",
    "a=int(a)\n",
    "d=int(d)\n",
    "n=int(n)\n",
    "\n",
    "#print(a+d*(n-1))\n",
    "\n",
    "for i in range(n-1):\n",
    "    a=a+d\n",
    "\n",
    "print(a)"
   ]
  },
  {
   "cell_type": "markdown",
   "id": "06be637c",
   "metadata": {},
   "source": [
    "### c:시작 값 v:등비 m:몇번째"
   ]
  },
  {
   "cell_type": "code",
   "execution_count": 8,
   "id": "3d9b2752",
   "metadata": {},
   "outputs": [
    {
     "name": "stdout",
     "output_type": "stream",
     "text": [
      "c,v,m 입력2 3 4\n",
      "54\n"
     ]
    }
   ],
   "source": [
    "c,v,m=input('c,v,m 입력').split()\n",
    "\n",
    "c=int(c)\n",
    "v=int(v)\n",
    "m=int(m)\n",
    "\n",
    "#print(c*(v**(m-1)))\n",
    "\n",
    "for q in range(m-1):\n",
    "   c=c*v\n",
    "\n",
    "print(c)"
   ]
  },
  {
   "cell_type": "markdown",
   "id": "382d110e",
   "metadata": {},
   "source": [
    "### 1 -1 3 -5 11 -21 43"
   ]
  }
 ],
 "metadata": {
  "kernelspec": {
   "display_name": "Python 3",
   "language": "python",
   "name": "python3"
  },
  "language_info": {
   "codemirror_mode": {
    "name": "ipython",
    "version": 3
   },
   "file_extension": ".py",
   "mimetype": "text/x-python",
   "name": "python",
   "nbconvert_exporter": "python",
   "pygments_lexer": "ipython3",
   "version": "3.8.8"
  }
 },
 "nbformat": 4,
 "nbformat_minor": 5
}
