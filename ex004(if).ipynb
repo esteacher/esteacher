{
 "cells": [
  {
   "cell_type": "code",
   "execution_count": 1,
   "id": "cf95fcf8",
   "metadata": {},
   "outputs": [
    {
     "name": "stdout",
     "output_type": "stream",
     "text": [
      "점수 입력:75\n",
      "B\n"
     ]
    }
   ],
   "source": [
    "a=int(input('점수 입력:'))\n",
    "\n",
    "if 100>=a>=90:\n",
    "    print('A')\n",
    "elif a>=70:\n",
    "    print('B')\n",
    "elif a>=40:\n",
    "    print('C')\n",
    "else:\n",
    "    print('D')"
   ]
  },
  {
   "cell_type": "code",
   "execution_count": 4,
   "id": "c430df02",
   "metadata": {},
   "outputs": [
    {
     "name": "stdout",
     "output_type": "stream",
     "text": [
      "점수 입력:B\n",
      "Good!!\n"
     ]
    }
   ],
   "source": [
    "b=input('점수 입력:')\n",
    "\n",
    "if b=='A':\n",
    "    print('Best!!!')\n",
    "elif b=='B':\n",
    "    print('Good!!')\n",
    "elif b=='C':\n",
    "    print('run!')\n",
    "elif b=='D':\n",
    "    print('slowly~')\n",
    "else:\n",
    "    print('what?')"
   ]
  },
  {
   "cell_type": "code",
   "execution_count": 5,
   "id": "32c262d2",
   "metadata": {},
   "outputs": [
    {
     "name": "stdout",
     "output_type": "stream",
     "text": [
      "월 입력:12\n",
      "winter\n"
     ]
    }
   ],
   "source": [
    "c=int(input('월 입력:'))\n",
    "\n",
    "if 3<=c<=5:\n",
    "    print('spring')\n",
    "elif 6<=c<=8:\n",
    "    print('summer')\n",
    "elif 9<=c<=11:\n",
    "    print('fall')\n",
    "else:\n",
    "    print('winter')"
   ]
  },
  {
   "cell_type": "code",
   "execution_count": null,
   "id": "6184315b",
   "metadata": {},
   "outputs": [],
   "source": []
  }
 ],
 "metadata": {
  "kernelspec": {
   "display_name": "Python 3",
   "language": "python",
   "name": "python3"
  },
  "language_info": {
   "codemirror_mode": {
    "name": "ipython",
    "version": 3
   },
   "file_extension": ".py",
   "mimetype": "text/x-python",
   "name": "python",
   "nbconvert_exporter": "python",
   "pygments_lexer": "ipython3",
   "version": "3.8.8"
  }
 },
 "nbformat": 4,
 "nbformat_minor": 5
}
