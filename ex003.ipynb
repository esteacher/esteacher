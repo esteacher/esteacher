{
 "cells": [
  {
   "cell_type": "code",
   "execution_count": 2,
   "id": "922c1011",
   "metadata": {},
   "outputs": [
    {
     "name": "stdout",
     "output_type": "stream",
     "text": [
      "정답 입력:1\n",
      "정답\n"
     ]
    }
   ],
   "source": [
    "a=int(input('정답 입력:'))\n",
    "if a==1:\n",
    "    print(\"정답\")\n",
    "elif a==0:\n",
    "    print(\"오답\")"
   ]
  },
  {
   "cell_type": "code",
   "execution_count": 5,
   "id": "50472f4e",
   "metadata": {},
   "outputs": [
    {
     "name": "stdout",
     "output_type": "stream",
     "text": [
      "정답 입력:태풍 온대저기압\n",
      "오답\n"
     ]
    }
   ],
   "source": [
    "b,c=input('정답 입력:').split()\n",
    "if b=='태풍' and c=='열대저기압':\n",
    "    print(\"정답\")\n",
    "else:\n",
    "    print(\"오답\")"
   ]
  },
  {
   "cell_type": "markdown",
   "id": "ffe08ffb",
   "metadata": {},
   "source": [
    "## 두 정수 입력받아 큰 수 출력"
   ]
  },
  {
   "cell_type": "code",
   "execution_count": 9,
   "id": "1deb6af2",
   "metadata": {},
   "outputs": [
    {
     "name": "stdout",
     "output_type": "stream",
     "text": [
      "정답 입력:5 7\n",
      "7\n"
     ]
    }
   ],
   "source": [
    "d,f=input('정답 입력:').split()\n",
    "d=int(d)\n",
    "f=int(f)\n",
    "\n",
    "print(d) if d>f else print(f)"
   ]
  },
  {
   "cell_type": "markdown",
   "id": "5fe6686b",
   "metadata": {},
   "source": [
    "## 정수 세 개 입력받아 가장 작은 수 출력"
   ]
  },
  {
   "cell_type": "code",
   "execution_count": 10,
   "id": "c3f07481",
   "metadata": {},
   "outputs": [
    {
     "name": "stdout",
     "output_type": "stream",
     "text": [
      "정답 입력:3 5 7\n",
      "3\n"
     ]
    }
   ],
   "source": [
    "g,h,i=input('정답 입력:').split()\n",
    "g=int(g)\n",
    "h=int(h)\n",
    "i=int(i)\n",
    "\n",
    "min1=g if g<h else h\n",
    "min2=min1 if min1<i else i\n",
    "\n",
    "print(min2)"
   ]
  },
  {
   "cell_type": "code",
   "execution_count": 11,
   "id": "4f94a0d4",
   "metadata": {},
   "outputs": [
    {
     "name": "stdout",
     "output_type": "stream",
     "text": [
      "정수 한 개 입력:3\n",
      "plus\n",
      "odd\n"
     ]
    }
   ],
   "source": [
    "j=int(input('정수 한 개 입력:'))\n",
    "\n",
    "if j>0:\n",
    "    print('plus')\n",
    "else:\n",
    "    print('minus')\n",
    "    \n",
    "if a%2==0:\n",
    "    print('even')\n",
    "else:\n",
    "    print('odd')"
   ]
  },
  {
   "cell_type": "code",
   "execution_count": 12,
   "id": "f345fc74",
   "metadata": {},
   "outputs": [
    {
     "name": "stdout",
     "output_type": "stream",
     "text": [
      "정수 세 개 입력:3 4 5\n",
      "4\n"
     ]
    }
   ],
   "source": [
    "i,j,k=input('정수 세 개 입력:').split()\n",
    "i=int(i)\n",
    "j=int(j)\n",
    "k=int(k)\n",
    "\n",
    "if i%2==0:\n",
    "    print(i)\n",
    "if j%2==0:\n",
    "    print(j)\n",
    "if k%2==0:\n",
    "    print(k)"
   ]
  },
  {
   "cell_type": "code",
   "execution_count": null,
   "id": "0a1d40a3",
   "metadata": {},
   "outputs": [],
   "source": []
  }
 ],
 "metadata": {
  "kernelspec": {
   "display_name": "Python 3",
   "language": "python",
   "name": "python3"
  },
  "language_info": {
   "codemirror_mode": {
    "name": "ipython",
    "version": 3
   },
   "file_extension": ".py",
   "mimetype": "text/x-python",
   "name": "python",
   "nbconvert_exporter": "python",
   "pygments_lexer": "ipython3",
   "version": "3.8.8"
  }
 },
 "nbformat": 4,
 "nbformat_minor": 5
}
