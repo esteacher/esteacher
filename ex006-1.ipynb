{
 "cells": [
  {
   "cell_type": "markdown",
   "id": "52ccf759",
   "metadata": {},
   "source": [
    "## 1 -1 3 -5 11 -21 43"
   ]
  },
  {
   "cell_type": "markdown",
   "id": "a6236c94",
   "metadata": {},
   "source": [
    "## 시작 값(a) 곱할 값(m) 더할 값(d) 몇 번째(n)"
   ]
  },
  {
   "cell_type": "code",
   "execution_count": 1,
   "id": "cde0ab08",
   "metadata": {},
   "outputs": [
    {
     "name": "stdout",
     "output_type": "stream",
     "text": [
      "a,m,d,n 입력1 -2 1 8\n",
      "-85\n"
     ]
    }
   ],
   "source": [
    "a,m,d,n=input('a,m,d,n 입력').split()\n",
    "\n",
    "a=int(a)\n",
    "m=int(m)\n",
    "d=int(d)\n",
    "n=int(n)\n",
    "\n",
    "for i in range(n-1):\n",
    "    a=a*m+d\n",
    "    \n",
    "print(a)"
   ]
  },
  {
   "cell_type": "code",
   "execution_count": null,
   "id": "fe20e6dc",
   "metadata": {},
   "outputs": [],
   "source": []
  }
 ],
 "metadata": {
  "kernelspec": {
   "display_name": "Python 3",
   "language": "python",
   "name": "python3"
  },
  "language_info": {
   "codemirror_mode": {
    "name": "ipython",
    "version": 3
   },
   "file_extension": ".py",
   "mimetype": "text/x-python",
   "name": "python",
   "nbconvert_exporter": "python",
   "pygments_lexer": "ipython3",
   "version": "3.8.8"
  }
 },
 "nbformat": 4,
 "nbformat_minor": 5
}
