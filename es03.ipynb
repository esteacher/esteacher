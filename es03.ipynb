{
 "cells": [
  {
   "cell_type": "code",
   "execution_count": 6,
   "id": "fd7f057a",
   "metadata": {},
   "outputs": [],
   "source": [
    "%matplotlib inline\n",
    "import matplotlib.pyplot as plt"
   ]
  },
  {
   "cell_type": "code",
   "execution_count": 10,
   "id": "d2e04f56",
   "metadata": {},
   "outputs": [],
   "source": [
    "import pandas as pd"
   ]
  },
  {
   "cell_type": "code",
   "execution_count": 11,
   "id": "44d7af8d",
   "metadata": {},
   "outputs": [],
   "source": [
    "TyPhoon = ['da','rum','bary','tte','hhd']\n",
    "Pr = [968, 980, 965, 970, 973]\n",
    "\n",
    "TyDataSet = list(zip(TyPhoon,Pr))\n",
    "df = pd.DataFrame(data = TyDataSet, columns=['TyPhoon', 'Pr'])"
   ]
  },
  {
   "cell_type": "code",
   "execution_count": 12,
   "id": "ebed4a26",
   "metadata": {},
   "outputs": [
    {
     "data": {
      "text/html": [
       "<div>\n",
       "<style scoped>\n",
       "    .dataframe tbody tr th:only-of-type {\n",
       "        vertical-align: middle;\n",
       "    }\n",
       "\n",
       "    .dataframe tbody tr th {\n",
       "        vertical-align: top;\n",
       "    }\n",
       "\n",
       "    .dataframe thead th {\n",
       "        text-align: right;\n",
       "    }\n",
       "</style>\n",
       "<table border=\"1\" class=\"dataframe\">\n",
       "  <thead>\n",
       "    <tr style=\"text-align: right;\">\n",
       "      <th></th>\n",
       "      <th>TyPhoon</th>\n",
       "      <th>Pr</th>\n",
       "    </tr>\n",
       "  </thead>\n",
       "  <tbody>\n",
       "    <tr>\n",
       "      <th>0</th>\n",
       "      <td>da</td>\n",
       "      <td>968</td>\n",
       "    </tr>\n",
       "    <tr>\n",
       "      <th>1</th>\n",
       "      <td>rum</td>\n",
       "      <td>980</td>\n",
       "    </tr>\n",
       "    <tr>\n",
       "      <th>2</th>\n",
       "      <td>bary</td>\n",
       "      <td>965</td>\n",
       "    </tr>\n",
       "    <tr>\n",
       "      <th>3</th>\n",
       "      <td>tte</td>\n",
       "      <td>970</td>\n",
       "    </tr>\n",
       "    <tr>\n",
       "      <th>4</th>\n",
       "      <td>hhd</td>\n",
       "      <td>973</td>\n",
       "    </tr>\n",
       "  </tbody>\n",
       "</table>\n",
       "</div>"
      ],
      "text/plain": [
       "  TyPhoon   Pr\n",
       "0      da  968\n",
       "1     rum  980\n",
       "2    bary  965\n",
       "3     tte  970\n",
       "4     hhd  973"
      ]
     },
     "execution_count": 12,
     "metadata": {},
     "output_type": "execute_result"
    }
   ],
   "source": [
    "df.head()"
   ]
  },
  {
   "cell_type": "code",
   "execution_count": 13,
   "id": "46555962",
   "metadata": {},
   "outputs": [
    {
     "data": {
      "image/png": "[encoded data removed]",
      "text/plain": [
       "<Figure size 432x288 with 1 Axes>"
      ]
     },
     "metadata": {
      "needs_background": "light"
     },
     "output_type": "display_data"
    }
   ],
   "source": [
    "y = df['Pr']\n",
    "x = df['TyPhoon']\n",
    "\n",
    "# bar plot을 출력합니다.\n",
    "plt.bar(x, y) # --> 막대그래프 객체 생성\n",
    "plt.xlabel('TyPhoon') # --> x축 제목\n",
    "plt.ylabel('Pr') # --> y축 제목\n",
    "plt.title('Bar plot') # --> 그래프 제목\n",
    "plt.show() # --> 그래프 출력df.head()"
   ]
  },
  {
   "cell_type": "code",
   "execution_count": 14,
   "id": "e270a8d7",
   "metadata": {},
   "outputs": [
    {
     "data": {
      "image/png": "[encoded data removed]",
      "text/plain": [
       "<Figure size 432x288 with 1 Axes>"
      ]
     },
     "metadata": {
      "needs_background": "light"
     },
     "output_type": "display_data"
    }
   ],
   "source": [
    "y = df['Pr']\n",
    "x = df['TyPhoon']\n",
    "\n",
    "# bar plot을 출력합니다.\n",
    "plt.scatter(x, y) # --> 막대그래프 객체 생성\n",
    "plt.xlabel('TyPhoon') # --> x축 제목\n",
    "plt.ylabel('Pr') # --> y축 제목\n",
    "plt.title('Bar plot') # --> 그래프 제목\n",
    "plt.show() # --> 그래프 출력df.head()"
   ]
  },
  {
   "cell_type": "code",
   "execution_count": null,
   "id": "9ae09651",
   "metadata": {},
   "outputs": [],
   "source": []
  }
 ],
 "metadata": {
  "kernelspec": {
   "display_name": "Python 3 (ipykernel)",
   "language": "python",
   "name": "python3"
  },
  "language_info": {
   "codemirror_mode": {
    "name": "ipython",
    "version": 3
   },
   "file_extension": ".py",
   "mimetype": "text/x-python",
   "name": "python",
   "nbconvert_exporter": "python",
   "pygments_lexer": "ipython3",
   "version": "3.7.10"
  }
 },
 "nbformat": 4,
 "nbformat_minor": 5
}
